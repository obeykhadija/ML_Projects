{
 "cells": [
  {
   "cell_type": "markdown",
   "id": "01e3a312",
   "metadata": {
    "papermill": {
     "duration": 0.039506,
     "end_time": "2021-10-18T20:07:23.289689",
     "exception": false,
     "start_time": "2021-10-18T20:07:23.250183",
     "status": "completed"
    },
    "tags": []
   },
   "source": [
    "# Breast Cancer Classification\n",
    "## Objectives:\n",
    "* Clean data and determine training labels\n",
    "* Split, scale, and standardize data\n",
    "* Find best Hyperparameter for SVM and Logistic Regression\n",
    "* Compare models before and after apply"
   ]
  },
  {
   "cell_type": "markdown",
   "id": "886c9787",
   "metadata": {
    "papermill": {
     "duration": 0.037904,
     "end_time": "2021-10-18T20:07:23.366036",
     "exception": false,
     "start_time": "2021-10-18T20:07:23.328132",
     "status": "completed"
    },
    "tags": []
   },
   "source": [
    "# Import Libraries & Load Data"
   ]
  },
  {
   "cell_type": "code",
   "execution_count": 1,
   "id": "10120c2d",
   "metadata": {
    "execution": {
     "iopub.execute_input": "2021-10-18T20:07:23.451413Z",
     "iopub.status.busy": "2021-10-18T20:07:23.450886Z",
     "iopub.status.idle": "2021-10-18T20:07:24.773342Z",
     "shell.execute_reply": "2021-10-18T20:07:24.772674Z",
     "shell.execute_reply.started": "2021-10-18T20:05:18.426962Z"
    },
    "papermill": {
     "duration": 1.368383,
     "end_time": "2021-10-18T20:07:24.773499",
     "exception": false,
     "start_time": "2021-10-18T20:07:23.405116",
     "status": "completed"
    },
    "tags": []
   },
   "outputs": [],
   "source": [
    "import pandas as pd\n",
    "import numpy as np\n",
    "\n",
    "import matplotlib.pyplot as plt\n",
    "import seaborn as sns\n",
    "\n",
    "from sklearn.preprocessing import StandardScaler\n",
    "from sklearn.model_selection import train_test_split\n",
    "from sklearn.model_selection import GridSearchCV\n",
    "from sklearn.decomposition import PCA\n",
    "\n",
    "from sklearn.metrics import accuracy_score\n",
    "\n",
    "from sklearn.linear_model import LogisticRegression\n",
    "from sklearn.svm import SVC\n",
    "\n",
    "import warnings \n",
    "warnings.filterwarnings('ignore')\n"
   ]
  },
  {
   "cell_type": "code",
   "execution_count": 2,
   "id": "2aa69de6",
   "metadata": {
    "execution": {
     "iopub.execute_input": "2021-10-18T20:07:24.857141Z",
     "iopub.status.busy": "2021-10-18T20:07:24.856509Z",
     "iopub.status.idle": "2021-10-18T20:07:24.886638Z",
     "shell.execute_reply": "2021-10-18T20:07:24.886007Z",
     "shell.execute_reply.started": "2021-10-18T20:05:18.932055Z"
    },
    "papermill": {
     "duration": 0.073984,
     "end_time": "2021-10-18T20:07:24.886772",
     "exception": false,
     "start_time": "2021-10-18T20:07:24.812788",
     "status": "completed"
    },
    "tags": []
   },
   "outputs": [],
   "source": [
    "data = pd.read_csv('../input/breast-cancer-wisconsin-data/data.csv')\n",
    "pd.set_option('max_columns', None)"
   ]
  },
  {
   "cell_type": "code",
   "execution_count": 3,
   "id": "340902a7",
   "metadata": {
    "execution": {
     "iopub.execute_input": "2021-10-18T20:07:24.977626Z",
     "iopub.status.busy": "2021-10-18T20:07:24.976986Z",
     "iopub.status.idle": "2021-10-18T20:07:25.020133Z",
     "shell.execute_reply": "2021-10-18T20:07:25.019520Z",
     "shell.execute_reply.started": "2021-10-18T20:05:18.954072Z"
    },
    "papermill": {
     "duration": 0.094837,
     "end_time": "2021-10-18T20:07:25.020266",
     "exception": false,
     "start_time": "2021-10-18T20:07:24.925429",
     "status": "completed"
    },
    "tags": []
   },
   "outputs": [
    {
     "data": {
      "text/html": [
       "<div>\n",
       "<style scoped>\n",
       "    .dataframe tbody tr th:only-of-type {\n",
       "        vertical-align: middle;\n",
       "    }\n",
       "\n",
       "    .dataframe tbody tr th {\n",
       "        vertical-align: top;\n",
       "    }\n",
       "\n",
       "    .dataframe thead th {\n",
       "        text-align: right;\n",
       "    }\n",
       "</style>\n",
       "<table border=\"1\" class=\"dataframe\">\n",
       "  <thead>\n",
       "    <tr style=\"text-align: right;\">\n",
       "      <th></th>\n",
       "      <th>id</th>\n",
       "      <th>diagnosis</th>\n",
       "      <th>radius_mean</th>\n",
       "      <th>texture_mean</th>\n",
       "      <th>perimeter_mean</th>\n",
       "      <th>area_mean</th>\n",
       "      <th>smoothness_mean</th>\n",
       "      <th>compactness_mean</th>\n",
       "      <th>concavity_mean</th>\n",
       "      <th>concave points_mean</th>\n",
       "      <th>symmetry_mean</th>\n",
       "      <th>fractal_dimension_mean</th>\n",
       "      <th>radius_se</th>\n",
       "      <th>texture_se</th>\n",
       "      <th>perimeter_se</th>\n",
       "      <th>area_se</th>\n",
       "      <th>smoothness_se</th>\n",
       "      <th>compactness_se</th>\n",
       "      <th>concavity_se</th>\n",
       "      <th>concave points_se</th>\n",
       "      <th>symmetry_se</th>\n",
       "      <th>fractal_dimension_se</th>\n",
       "      <th>radius_worst</th>\n",
       "      <th>texture_worst</th>\n",
       "      <th>perimeter_worst</th>\n",
       "      <th>area_worst</th>\n",
       "      <th>smoothness_worst</th>\n",
       "      <th>compactness_worst</th>\n",
       "      <th>concavity_worst</th>\n",
       "      <th>concave points_worst</th>\n",
       "      <th>symmetry_worst</th>\n",
       "      <th>fractal_dimension_worst</th>\n",
       "      <th>Unnamed: 32</th>\n",
       "    </tr>\n",
       "  </thead>\n",
       "  <tbody>\n",
       "    <tr>\n",
       "      <th>0</th>\n",
       "      <td>842302</td>\n",
       "      <td>M</td>\n",
       "      <td>17.99</td>\n",
       "      <td>10.38</td>\n",
       "      <td>122.80</td>\n",
       "      <td>1001.0</td>\n",
       "      <td>0.11840</td>\n",
       "      <td>0.27760</td>\n",
       "      <td>0.30010</td>\n",
       "      <td>0.14710</td>\n",
       "      <td>0.2419</td>\n",
       "      <td>0.07871</td>\n",
       "      <td>1.0950</td>\n",
       "      <td>0.9053</td>\n",
       "      <td>8.589</td>\n",
       "      <td>153.40</td>\n",
       "      <td>0.006399</td>\n",
       "      <td>0.04904</td>\n",
       "      <td>0.05373</td>\n",
       "      <td>0.01587</td>\n",
       "      <td>0.03003</td>\n",
       "      <td>0.006193</td>\n",
       "      <td>25.380</td>\n",
       "      <td>17.33</td>\n",
       "      <td>184.60</td>\n",
       "      <td>2019.0</td>\n",
       "      <td>0.16220</td>\n",
       "      <td>0.66560</td>\n",
       "      <td>0.7119</td>\n",
       "      <td>0.2654</td>\n",
       "      <td>0.4601</td>\n",
       "      <td>0.11890</td>\n",
       "      <td>NaN</td>\n",
       "    </tr>\n",
       "    <tr>\n",
       "      <th>1</th>\n",
       "      <td>842517</td>\n",
       "      <td>M</td>\n",
       "      <td>20.57</td>\n",
       "      <td>17.77</td>\n",
       "      <td>132.90</td>\n",
       "      <td>1326.0</td>\n",
       "      <td>0.08474</td>\n",
       "      <td>0.07864</td>\n",
       "      <td>0.08690</td>\n",
       "      <td>0.07017</td>\n",
       "      <td>0.1812</td>\n",
       "      <td>0.05667</td>\n",
       "      <td>0.5435</td>\n",
       "      <td>0.7339</td>\n",
       "      <td>3.398</td>\n",
       "      <td>74.08</td>\n",
       "      <td>0.005225</td>\n",
       "      <td>0.01308</td>\n",
       "      <td>0.01860</td>\n",
       "      <td>0.01340</td>\n",
       "      <td>0.01389</td>\n",
       "      <td>0.003532</td>\n",
       "      <td>24.990</td>\n",
       "      <td>23.41</td>\n",
       "      <td>158.80</td>\n",
       "      <td>1956.0</td>\n",
       "      <td>0.12380</td>\n",
       "      <td>0.18660</td>\n",
       "      <td>0.2416</td>\n",
       "      <td>0.1860</td>\n",
       "      <td>0.2750</td>\n",
       "      <td>0.08902</td>\n",
       "      <td>NaN</td>\n",
       "    </tr>\n",
       "    <tr>\n",
       "      <th>2</th>\n",
       "      <td>84300903</td>\n",
       "      <td>M</td>\n",
       "      <td>19.69</td>\n",
       "      <td>21.25</td>\n",
       "      <td>130.00</td>\n",
       "      <td>1203.0</td>\n",
       "      <td>0.10960</td>\n",
       "      <td>0.15990</td>\n",
       "      <td>0.19740</td>\n",
       "      <td>0.12790</td>\n",
       "      <td>0.2069</td>\n",
       "      <td>0.05999</td>\n",
       "      <td>0.7456</td>\n",
       "      <td>0.7869</td>\n",
       "      <td>4.585</td>\n",
       "      <td>94.03</td>\n",
       "      <td>0.006150</td>\n",
       "      <td>0.04006</td>\n",
       "      <td>0.03832</td>\n",
       "      <td>0.02058</td>\n",
       "      <td>0.02250</td>\n",
       "      <td>0.004571</td>\n",
       "      <td>23.570</td>\n",
       "      <td>25.53</td>\n",
       "      <td>152.50</td>\n",
       "      <td>1709.0</td>\n",
       "      <td>0.14440</td>\n",
       "      <td>0.42450</td>\n",
       "      <td>0.4504</td>\n",
       "      <td>0.2430</td>\n",
       "      <td>0.3613</td>\n",
       "      <td>0.08758</td>\n",
       "      <td>NaN</td>\n",
       "    </tr>\n",
       "    <tr>\n",
       "      <th>3</th>\n",
       "      <td>84348301</td>\n",
       "      <td>M</td>\n",
       "      <td>11.42</td>\n",
       "      <td>20.38</td>\n",
       "      <td>77.58</td>\n",
       "      <td>386.1</td>\n",
       "      <td>0.14250</td>\n",
       "      <td>0.28390</td>\n",
       "      <td>0.24140</td>\n",
       "      <td>0.10520</td>\n",
       "      <td>0.2597</td>\n",
       "      <td>0.09744</td>\n",
       "      <td>0.4956</td>\n",
       "      <td>1.1560</td>\n",
       "      <td>3.445</td>\n",
       "      <td>27.23</td>\n",
       "      <td>0.009110</td>\n",
       "      <td>0.07458</td>\n",
       "      <td>0.05661</td>\n",
       "      <td>0.01867</td>\n",
       "      <td>0.05963</td>\n",
       "      <td>0.009208</td>\n",
       "      <td>14.910</td>\n",
       "      <td>26.50</td>\n",
       "      <td>98.87</td>\n",
       "      <td>567.7</td>\n",
       "      <td>0.20980</td>\n",
       "      <td>0.86630</td>\n",
       "      <td>0.6869</td>\n",
       "      <td>0.2575</td>\n",
       "      <td>0.6638</td>\n",
       "      <td>0.17300</td>\n",
       "      <td>NaN</td>\n",
       "    </tr>\n",
       "    <tr>\n",
       "      <th>4</th>\n",
       "      <td>84358402</td>\n",
       "      <td>M</td>\n",
       "      <td>20.29</td>\n",
       "      <td>14.34</td>\n",
       "      <td>135.10</td>\n",
       "      <td>1297.0</td>\n",
       "      <td>0.10030</td>\n",
       "      <td>0.13280</td>\n",
       "      <td>0.19800</td>\n",
       "      <td>0.10430</td>\n",
       "      <td>0.1809</td>\n",
       "      <td>0.05883</td>\n",
       "      <td>0.7572</td>\n",
       "      <td>0.7813</td>\n",
       "      <td>5.438</td>\n",
       "      <td>94.44</td>\n",
       "      <td>0.011490</td>\n",
       "      <td>0.02461</td>\n",
       "      <td>0.05688</td>\n",
       "      <td>0.01885</td>\n",
       "      <td>0.01756</td>\n",
       "      <td>0.005115</td>\n",
       "      <td>22.540</td>\n",
       "      <td>16.67</td>\n",
       "      <td>152.20</td>\n",
       "      <td>1575.0</td>\n",
       "      <td>0.13740</td>\n",
       "      <td>0.20500</td>\n",
       "      <td>0.4000</td>\n",
       "      <td>0.1625</td>\n",
       "      <td>0.2364</td>\n",
       "      <td>0.07678</td>\n",
       "      <td>NaN</td>\n",
       "    </tr>\n",
       "    <tr>\n",
       "      <th>...</th>\n",
       "      <td>...</td>\n",
       "      <td>...</td>\n",
       "      <td>...</td>\n",
       "      <td>...</td>\n",
       "      <td>...</td>\n",
       "      <td>...</td>\n",
       "      <td>...</td>\n",
       "      <td>...</td>\n",
       "      <td>...</td>\n",
       "      <td>...</td>\n",
       "      <td>...</td>\n",
       "      <td>...</td>\n",
       "      <td>...</td>\n",
       "      <td>...</td>\n",
       "      <td>...</td>\n",
       "      <td>...</td>\n",
       "      <td>...</td>\n",
       "      <td>...</td>\n",
       "      <td>...</td>\n",
       "      <td>...</td>\n",
       "      <td>...</td>\n",
       "      <td>...</td>\n",
       "      <td>...</td>\n",
       "      <td>...</td>\n",
       "      <td>...</td>\n",
       "      <td>...</td>\n",
       "      <td>...</td>\n",
       "      <td>...</td>\n",
       "      <td>...</td>\n",
       "      <td>...</td>\n",
       "      <td>...</td>\n",
       "      <td>...</td>\n",
       "      <td>...</td>\n",
       "    </tr>\n",
       "    <tr>\n",
       "      <th>564</th>\n",
       "      <td>926424</td>\n",
       "      <td>M</td>\n",
       "      <td>21.56</td>\n",
       "      <td>22.39</td>\n",
       "      <td>142.00</td>\n",
       "      <td>1479.0</td>\n",
       "      <td>0.11100</td>\n",
       "      <td>0.11590</td>\n",
       "      <td>0.24390</td>\n",
       "      <td>0.13890</td>\n",
       "      <td>0.1726</td>\n",
       "      <td>0.05623</td>\n",
       "      <td>1.1760</td>\n",
       "      <td>1.2560</td>\n",
       "      <td>7.673</td>\n",
       "      <td>158.70</td>\n",
       "      <td>0.010300</td>\n",
       "      <td>0.02891</td>\n",
       "      <td>0.05198</td>\n",
       "      <td>0.02454</td>\n",
       "      <td>0.01114</td>\n",
       "      <td>0.004239</td>\n",
       "      <td>25.450</td>\n",
       "      <td>26.40</td>\n",
       "      <td>166.10</td>\n",
       "      <td>2027.0</td>\n",
       "      <td>0.14100</td>\n",
       "      <td>0.21130</td>\n",
       "      <td>0.4107</td>\n",
       "      <td>0.2216</td>\n",
       "      <td>0.2060</td>\n",
       "      <td>0.07115</td>\n",
       "      <td>NaN</td>\n",
       "    </tr>\n",
       "    <tr>\n",
       "      <th>565</th>\n",
       "      <td>926682</td>\n",
       "      <td>M</td>\n",
       "      <td>20.13</td>\n",
       "      <td>28.25</td>\n",
       "      <td>131.20</td>\n",
       "      <td>1261.0</td>\n",
       "      <td>0.09780</td>\n",
       "      <td>0.10340</td>\n",
       "      <td>0.14400</td>\n",
       "      <td>0.09791</td>\n",
       "      <td>0.1752</td>\n",
       "      <td>0.05533</td>\n",
       "      <td>0.7655</td>\n",
       "      <td>2.4630</td>\n",
       "      <td>5.203</td>\n",
       "      <td>99.04</td>\n",
       "      <td>0.005769</td>\n",
       "      <td>0.02423</td>\n",
       "      <td>0.03950</td>\n",
       "      <td>0.01678</td>\n",
       "      <td>0.01898</td>\n",
       "      <td>0.002498</td>\n",
       "      <td>23.690</td>\n",
       "      <td>38.25</td>\n",
       "      <td>155.00</td>\n",
       "      <td>1731.0</td>\n",
       "      <td>0.11660</td>\n",
       "      <td>0.19220</td>\n",
       "      <td>0.3215</td>\n",
       "      <td>0.1628</td>\n",
       "      <td>0.2572</td>\n",
       "      <td>0.06637</td>\n",
       "      <td>NaN</td>\n",
       "    </tr>\n",
       "    <tr>\n",
       "      <th>566</th>\n",
       "      <td>926954</td>\n",
       "      <td>M</td>\n",
       "      <td>16.60</td>\n",
       "      <td>28.08</td>\n",
       "      <td>108.30</td>\n",
       "      <td>858.1</td>\n",
       "      <td>0.08455</td>\n",
       "      <td>0.10230</td>\n",
       "      <td>0.09251</td>\n",
       "      <td>0.05302</td>\n",
       "      <td>0.1590</td>\n",
       "      <td>0.05648</td>\n",
       "      <td>0.4564</td>\n",
       "      <td>1.0750</td>\n",
       "      <td>3.425</td>\n",
       "      <td>48.55</td>\n",
       "      <td>0.005903</td>\n",
       "      <td>0.03731</td>\n",
       "      <td>0.04730</td>\n",
       "      <td>0.01557</td>\n",
       "      <td>0.01318</td>\n",
       "      <td>0.003892</td>\n",
       "      <td>18.980</td>\n",
       "      <td>34.12</td>\n",
       "      <td>126.70</td>\n",
       "      <td>1124.0</td>\n",
       "      <td>0.11390</td>\n",
       "      <td>0.30940</td>\n",
       "      <td>0.3403</td>\n",
       "      <td>0.1418</td>\n",
       "      <td>0.2218</td>\n",
       "      <td>0.07820</td>\n",
       "      <td>NaN</td>\n",
       "    </tr>\n",
       "    <tr>\n",
       "      <th>567</th>\n",
       "      <td>927241</td>\n",
       "      <td>M</td>\n",
       "      <td>20.60</td>\n",
       "      <td>29.33</td>\n",
       "      <td>140.10</td>\n",
       "      <td>1265.0</td>\n",
       "      <td>0.11780</td>\n",
       "      <td>0.27700</td>\n",
       "      <td>0.35140</td>\n",
       "      <td>0.15200</td>\n",
       "      <td>0.2397</td>\n",
       "      <td>0.07016</td>\n",
       "      <td>0.7260</td>\n",
       "      <td>1.5950</td>\n",
       "      <td>5.772</td>\n",
       "      <td>86.22</td>\n",
       "      <td>0.006522</td>\n",
       "      <td>0.06158</td>\n",
       "      <td>0.07117</td>\n",
       "      <td>0.01664</td>\n",
       "      <td>0.02324</td>\n",
       "      <td>0.006185</td>\n",
       "      <td>25.740</td>\n",
       "      <td>39.42</td>\n",
       "      <td>184.60</td>\n",
       "      <td>1821.0</td>\n",
       "      <td>0.16500</td>\n",
       "      <td>0.86810</td>\n",
       "      <td>0.9387</td>\n",
       "      <td>0.2650</td>\n",
       "      <td>0.4087</td>\n",
       "      <td>0.12400</td>\n",
       "      <td>NaN</td>\n",
       "    </tr>\n",
       "    <tr>\n",
       "      <th>568</th>\n",
       "      <td>92751</td>\n",
       "      <td>B</td>\n",
       "      <td>7.76</td>\n",
       "      <td>24.54</td>\n",
       "      <td>47.92</td>\n",
       "      <td>181.0</td>\n",
       "      <td>0.05263</td>\n",
       "      <td>0.04362</td>\n",
       "      <td>0.00000</td>\n",
       "      <td>0.00000</td>\n",
       "      <td>0.1587</td>\n",
       "      <td>0.05884</td>\n",
       "      <td>0.3857</td>\n",
       "      <td>1.4280</td>\n",
       "      <td>2.548</td>\n",
       "      <td>19.15</td>\n",
       "      <td>0.007189</td>\n",
       "      <td>0.00466</td>\n",
       "      <td>0.00000</td>\n",
       "      <td>0.00000</td>\n",
       "      <td>0.02676</td>\n",
       "      <td>0.002783</td>\n",
       "      <td>9.456</td>\n",
       "      <td>30.37</td>\n",
       "      <td>59.16</td>\n",
       "      <td>268.6</td>\n",
       "      <td>0.08996</td>\n",
       "      <td>0.06444</td>\n",
       "      <td>0.0000</td>\n",
       "      <td>0.0000</td>\n",
       "      <td>0.2871</td>\n",
       "      <td>0.07039</td>\n",
       "      <td>NaN</td>\n",
       "    </tr>\n",
       "  </tbody>\n",
       "</table>\n",
       "<p>569 rows × 33 columns</p>\n",
       "</div>"
      ],
      "text/plain": [
       "           id diagnosis  radius_mean  texture_mean  perimeter_mean  area_mean  \\\n",
       "0      842302         M        17.99         10.38          122.80     1001.0   \n",
       "1      842517         M        20.57         17.77          132.90     1326.0   \n",
       "2    84300903         M        19.69         21.25          130.00     1203.0   \n",
       "3    84348301         M        11.42         20.38           77.58      386.1   \n",
       "4    84358402         M        20.29         14.34          135.10     1297.0   \n",
       "..        ...       ...          ...           ...             ...        ...   \n",
       "564    926424         M        21.56         22.39          142.00     1479.0   \n",
       "565    926682         M        20.13         28.25          131.20     1261.0   \n",
       "566    926954         M        16.60         28.08          108.30      858.1   \n",
       "567    927241         M        20.60         29.33          140.10     1265.0   \n",
       "568     92751         B         7.76         24.54           47.92      181.0   \n",
       "\n",
       "     smoothness_mean  compactness_mean  concavity_mean  concave points_mean  \\\n",
       "0            0.11840           0.27760         0.30010              0.14710   \n",
       "1            0.08474           0.07864         0.08690              0.07017   \n",
       "2            0.10960           0.15990         0.19740              0.12790   \n",
       "3            0.14250           0.28390         0.24140              0.10520   \n",
       "4            0.10030           0.13280         0.19800              0.10430   \n",
       "..               ...               ...             ...                  ...   \n",
       "564          0.11100           0.11590         0.24390              0.13890   \n",
       "565          0.09780           0.10340         0.14400              0.09791   \n",
       "566          0.08455           0.10230         0.09251              0.05302   \n",
       "567          0.11780           0.27700         0.35140              0.15200   \n",
       "568          0.05263           0.04362         0.00000              0.00000   \n",
       "\n",
       "     symmetry_mean  fractal_dimension_mean  radius_se  texture_se  \\\n",
       "0           0.2419                 0.07871     1.0950      0.9053   \n",
       "1           0.1812                 0.05667     0.5435      0.7339   \n",
       "2           0.2069                 0.05999     0.7456      0.7869   \n",
       "3           0.2597                 0.09744     0.4956      1.1560   \n",
       "4           0.1809                 0.05883     0.7572      0.7813   \n",
       "..             ...                     ...        ...         ...   \n",
       "564         0.1726                 0.05623     1.1760      1.2560   \n",
       "565         0.1752                 0.05533     0.7655      2.4630   \n",
       "566         0.1590                 0.05648     0.4564      1.0750   \n",
       "567         0.2397                 0.07016     0.7260      1.5950   \n",
       "568         0.1587                 0.05884     0.3857      1.4280   \n",
       "\n",
       "     perimeter_se  area_se  smoothness_se  compactness_se  concavity_se  \\\n",
       "0           8.589   153.40       0.006399         0.04904       0.05373   \n",
       "1           3.398    74.08       0.005225         0.01308       0.01860   \n",
       "2           4.585    94.03       0.006150         0.04006       0.03832   \n",
       "3           3.445    27.23       0.009110         0.07458       0.05661   \n",
       "4           5.438    94.44       0.011490         0.02461       0.05688   \n",
       "..            ...      ...            ...             ...           ...   \n",
       "564         7.673   158.70       0.010300         0.02891       0.05198   \n",
       "565         5.203    99.04       0.005769         0.02423       0.03950   \n",
       "566         3.425    48.55       0.005903         0.03731       0.04730   \n",
       "567         5.772    86.22       0.006522         0.06158       0.07117   \n",
       "568         2.548    19.15       0.007189         0.00466       0.00000   \n",
       "\n",
       "     concave points_se  symmetry_se  fractal_dimension_se  radius_worst  \\\n",
       "0              0.01587      0.03003              0.006193        25.380   \n",
       "1              0.01340      0.01389              0.003532        24.990   \n",
       "2              0.02058      0.02250              0.004571        23.570   \n",
       "3              0.01867      0.05963              0.009208        14.910   \n",
       "4              0.01885      0.01756              0.005115        22.540   \n",
       "..                 ...          ...                   ...           ...   \n",
       "564            0.02454      0.01114              0.004239        25.450   \n",
       "565            0.01678      0.01898              0.002498        23.690   \n",
       "566            0.01557      0.01318              0.003892        18.980   \n",
       "567            0.01664      0.02324              0.006185        25.740   \n",
       "568            0.00000      0.02676              0.002783         9.456   \n",
       "\n",
       "     texture_worst  perimeter_worst  area_worst  smoothness_worst  \\\n",
       "0            17.33           184.60      2019.0           0.16220   \n",
       "1            23.41           158.80      1956.0           0.12380   \n",
       "2            25.53           152.50      1709.0           0.14440   \n",
       "3            26.50            98.87       567.7           0.20980   \n",
       "4            16.67           152.20      1575.0           0.13740   \n",
       "..             ...              ...         ...               ...   \n",
       "564          26.40           166.10      2027.0           0.14100   \n",
       "565          38.25           155.00      1731.0           0.11660   \n",
       "566          34.12           126.70      1124.0           0.11390   \n",
       "567          39.42           184.60      1821.0           0.16500   \n",
       "568          30.37            59.16       268.6           0.08996   \n",
       "\n",
       "     compactness_worst  concavity_worst  concave points_worst  symmetry_worst  \\\n",
       "0              0.66560           0.7119                0.2654          0.4601   \n",
       "1              0.18660           0.2416                0.1860          0.2750   \n",
       "2              0.42450           0.4504                0.2430          0.3613   \n",
       "3              0.86630           0.6869                0.2575          0.6638   \n",
       "4              0.20500           0.4000                0.1625          0.2364   \n",
       "..                 ...              ...                   ...             ...   \n",
       "564            0.21130           0.4107                0.2216          0.2060   \n",
       "565            0.19220           0.3215                0.1628          0.2572   \n",
       "566            0.30940           0.3403                0.1418          0.2218   \n",
       "567            0.86810           0.9387                0.2650          0.4087   \n",
       "568            0.06444           0.0000                0.0000          0.2871   \n",
       "\n",
       "     fractal_dimension_worst  Unnamed: 32  \n",
       "0                    0.11890          NaN  \n",
       "1                    0.08902          NaN  \n",
       "2                    0.08758          NaN  \n",
       "3                    0.17300          NaN  \n",
       "4                    0.07678          NaN  \n",
       "..                       ...          ...  \n",
       "564                  0.07115          NaN  \n",
       "565                  0.06637          NaN  \n",
       "566                  0.07820          NaN  \n",
       "567                  0.12400          NaN  \n",
       "568                  0.07039          NaN  \n",
       "\n",
       "[569 rows x 33 columns]"
      ]
     },
     "execution_count": 3,
     "metadata": {},
     "output_type": "execute_result"
    }
   ],
   "source": [
    "data"
   ]
  },
  {
   "cell_type": "markdown",
   "id": "6c2a15dd",
   "metadata": {
    "papermill": {
     "duration": 0.039619,
     "end_time": "2021-10-18T20:07:25.101339",
     "exception": false,
     "start_time": "2021-10-18T20:07:25.061720",
     "status": "completed"
    },
    "tags": []
   },
   "source": [
    "# Data Cleaning"
   ]
  },
  {
   "cell_type": "code",
   "execution_count": 4,
   "id": "3d4d547d",
   "metadata": {
    "execution": {
     "iopub.execute_input": "2021-10-18T20:07:25.190972Z",
     "iopub.status.busy": "2021-10-18T20:07:25.190272Z",
     "iopub.status.idle": "2021-10-18T20:07:25.194502Z",
     "shell.execute_reply": "2021-10-18T20:07:25.194042Z",
     "shell.execute_reply.started": "2021-10-18T20:05:19.019550Z"
    },
    "papermill": {
     "duration": 0.053311,
     "end_time": "2021-10-18T20:07:25.194610",
     "exception": false,
     "start_time": "2021-10-18T20:07:25.141299",
     "status": "completed"
    },
    "tags": []
   },
   "outputs": [
    {
     "data": {
      "text/plain": [
       "id                           0\n",
       "diagnosis                    0\n",
       "radius_mean                  0\n",
       "texture_mean                 0\n",
       "perimeter_mean               0\n",
       "area_mean                    0\n",
       "smoothness_mean              0\n",
       "compactness_mean             0\n",
       "concavity_mean               0\n",
       "concave points_mean          0\n",
       "symmetry_mean                0\n",
       "fractal_dimension_mean       0\n",
       "radius_se                    0\n",
       "texture_se                   0\n",
       "perimeter_se                 0\n",
       "area_se                      0\n",
       "smoothness_se                0\n",
       "compactness_se               0\n",
       "concavity_se                 0\n",
       "concave points_se            0\n",
       "symmetry_se                  0\n",
       "fractal_dimension_se         0\n",
       "radius_worst                 0\n",
       "texture_worst                0\n",
       "perimeter_worst              0\n",
       "area_worst                   0\n",
       "smoothness_worst             0\n",
       "compactness_worst            0\n",
       "concavity_worst              0\n",
       "concave points_worst         0\n",
       "symmetry_worst               0\n",
       "fractal_dimension_worst      0\n",
       "Unnamed: 32                569\n",
       "dtype: int64"
      ]
     },
     "execution_count": 4,
     "metadata": {},
     "output_type": "execute_result"
    }
   ],
   "source": [
    "data.isna().sum()"
   ]
  },
  {
   "cell_type": "code",
   "execution_count": 5,
   "id": "ecb5703c",
   "metadata": {
    "execution": {
     "iopub.execute_input": "2021-10-18T20:07:25.252606Z",
     "iopub.status.busy": "2021-10-18T20:07:25.251942Z",
     "iopub.status.idle": "2021-10-18T20:07:25.260350Z",
     "shell.execute_reply": "2021-10-18T20:07:25.259911Z",
     "shell.execute_reply.started": "2021-10-18T20:05:19.034239Z"
    },
    "papermill": {
     "duration": 0.038756,
     "end_time": "2021-10-18T20:07:25.260461",
     "exception": false,
     "start_time": "2021-10-18T20:07:25.221705",
     "status": "completed"
    },
    "tags": []
   },
   "outputs": [],
   "source": [
    "#remove unneccessary columns\n",
    "data.drop(['id','Unnamed: 32'], axis=1, inplace=True)"
   ]
  },
  {
   "cell_type": "code",
   "execution_count": 6,
   "id": "baebae56",
   "metadata": {
    "execution": {
     "iopub.execute_input": "2021-10-18T20:07:25.320714Z",
     "iopub.status.busy": "2021-10-18T20:07:25.320123Z",
     "iopub.status.idle": "2021-10-18T20:07:25.323928Z",
     "shell.execute_reply": "2021-10-18T20:07:25.323483Z",
     "shell.execute_reply.started": "2021-10-18T20:05:19.041481Z"
    },
    "papermill": {
     "duration": 0.036713,
     "end_time": "2021-10-18T20:07:25.324050",
     "exception": false,
     "start_time": "2021-10-18T20:07:25.287337",
     "status": "completed"
    },
    "tags": []
   },
   "outputs": [
    {
     "data": {
      "text/plain": [
       "diagnosis                   object\n",
       "radius_mean                float64\n",
       "texture_mean               float64\n",
       "perimeter_mean             float64\n",
       "area_mean                  float64\n",
       "smoothness_mean            float64\n",
       "compactness_mean           float64\n",
       "concavity_mean             float64\n",
       "concave points_mean        float64\n",
       "symmetry_mean              float64\n",
       "fractal_dimension_mean     float64\n",
       "radius_se                  float64\n",
       "texture_se                 float64\n",
       "perimeter_se               float64\n",
       "area_se                    float64\n",
       "smoothness_se              float64\n",
       "compactness_se             float64\n",
       "concavity_se               float64\n",
       "concave points_se          float64\n",
       "symmetry_se                float64\n",
       "fractal_dimension_se       float64\n",
       "radius_worst               float64\n",
       "texture_worst              float64\n",
       "perimeter_worst            float64\n",
       "area_worst                 float64\n",
       "smoothness_worst           float64\n",
       "compactness_worst          float64\n",
       "concavity_worst            float64\n",
       "concave points_worst       float64\n",
       "symmetry_worst             float64\n",
       "fractal_dimension_worst    float64\n",
       "dtype: object"
      ]
     },
     "execution_count": 6,
     "metadata": {},
     "output_type": "execute_result"
    }
   ],
   "source": [
    "data.dtypes"
   ]
  },
  {
   "cell_type": "code",
   "execution_count": 7,
   "id": "c1a92042",
   "metadata": {
    "execution": {
     "iopub.execute_input": "2021-10-18T20:07:25.383616Z",
     "iopub.status.busy": "2021-10-18T20:07:25.382575Z",
     "iopub.status.idle": "2021-10-18T20:07:25.388311Z",
     "shell.execute_reply": "2021-10-18T20:07:25.387842Z",
     "shell.execute_reply.started": "2021-10-18T20:05:19.057800Z"
    },
    "papermill": {
     "duration": 0.037615,
     "end_time": "2021-10-18T20:07:25.388414",
     "exception": false,
     "start_time": "2021-10-18T20:07:25.350799",
     "status": "completed"
    },
    "tags": []
   },
   "outputs": [
    {
     "data": {
      "text/plain": [
       "array(['M', 'B'], dtype=object)"
      ]
     },
     "execution_count": 7,
     "metadata": {},
     "output_type": "execute_result"
    }
   ],
   "source": [
    "data['diagnosis'].unique()"
   ]
  },
  {
   "cell_type": "markdown",
   "id": "1db76044",
   "metadata": {
    "papermill": {
     "duration": 0.026441,
     "end_time": "2021-10-18T20:07:25.441713",
     "exception": false,
     "start_time": "2021-10-18T20:07:25.415272",
     "status": "completed"
    },
    "tags": []
   },
   "source": [
    "\n",
    "as we can see only the diagnosis column has non-numeric data, therefore, we can convert these labels to numeric values instead\n"
   ]
  },
  {
   "cell_type": "code",
   "execution_count": 8,
   "id": "35a602aa",
   "metadata": {
    "execution": {
     "iopub.execute_input": "2021-10-18T20:07:25.500450Z",
     "iopub.status.busy": "2021-10-18T20:07:25.499825Z",
     "iopub.status.idle": "2021-10-18T20:07:25.503866Z",
     "shell.execute_reply": "2021-10-18T20:07:25.503294Z",
     "shell.execute_reply.started": "2021-10-18T20:05:19.067837Z"
    },
    "papermill": {
     "duration": 0.035493,
     "end_time": "2021-10-18T20:07:25.504053",
     "exception": false,
     "start_time": "2021-10-18T20:07:25.468560",
     "status": "completed"
    },
    "tags": []
   },
   "outputs": [],
   "source": [
    "data['diagnosis'] = data['diagnosis'].apply(lambda x: 1 if x == 'M' else 0)"
   ]
  },
  {
   "cell_type": "code",
   "execution_count": 9,
   "id": "1abccbff",
   "metadata": {
    "execution": {
     "iopub.execute_input": "2021-10-18T20:07:25.593736Z",
     "iopub.status.busy": "2021-10-18T20:07:25.592853Z",
     "iopub.status.idle": "2021-10-18T20:07:25.597174Z",
     "shell.execute_reply": "2021-10-18T20:07:25.596610Z",
     "shell.execute_reply.started": "2021-10-18T20:05:19.080274Z"
    },
    "papermill": {
     "duration": 0.052129,
     "end_time": "2021-10-18T20:07:25.597309",
     "exception": false,
     "start_time": "2021-10-18T20:07:25.545180",
     "status": "completed"
    },
    "tags": []
   },
   "outputs": [
    {
     "data": {
      "text/plain": [
       "array([1, 0])"
      ]
     },
     "execution_count": 9,
     "metadata": {},
     "output_type": "execute_result"
    }
   ],
   "source": [
    "data['diagnosis'].unique()"
   ]
  },
  {
   "cell_type": "markdown",
   "id": "dcbaf93a",
   "metadata": {
    "papermill": {
     "duration": 0.04096,
     "end_time": "2021-10-18T20:07:25.679789",
     "exception": false,
     "start_time": "2021-10-18T20:07:25.638829",
     "status": "completed"
    },
    "tags": []
   },
   "source": [
    "# Data Preprocessing"
   ]
  },
  {
   "cell_type": "code",
   "execution_count": 10,
   "id": "f7406356",
   "metadata": {
    "execution": {
     "iopub.execute_input": "2021-10-18T20:07:25.768899Z",
     "iopub.status.busy": "2021-10-18T20:07:25.768098Z",
     "iopub.status.idle": "2021-10-18T20:07:25.770839Z",
     "shell.execute_reply": "2021-10-18T20:07:25.770318Z",
     "shell.execute_reply.started": "2021-10-18T20:05:19.093440Z"
    },
    "papermill": {
     "duration": 0.049819,
     "end_time": "2021-10-18T20:07:25.770983",
     "exception": false,
     "start_time": "2021-10-18T20:07:25.721164",
     "status": "completed"
    },
    "tags": []
   },
   "outputs": [],
   "source": [
    "def preprocessing_inputs(df):\n",
    "    df = df.copy()\n",
    "    \n",
    "    #Split DataFrame\n",
    "    y = df['diagnosis']\n",
    "    X = df.drop('diagnosis', axis=1)\n",
    "    \n",
    "    #Train Test Split\n",
    "    X_train, X_test, y_train, y_test = train_test_split(X,y, test_size=0.3, random_state=1)\n",
    "    \n",
    "    #Scale X\n",
    "    scaler = StandardScaler()\n",
    "    scaler.fit(X_train)\n",
    "    X_train = pd.DataFrame(scaler.transform(X_train), index=X_train.index, columns=X_train.columns)\n",
    "    X_test = pd.DataFrame(scaler.transform(X_test), index=X_test.index, columns=X_test.columns)\n",
    "    \n",
    "    \n",
    "    return X_train, X_test, y_train, y_test"
   ]
  },
  {
   "cell_type": "code",
   "execution_count": 11,
   "id": "e77e3f6e",
   "metadata": {
    "execution": {
     "iopub.execute_input": "2021-10-18T20:07:25.868668Z",
     "iopub.status.busy": "2021-10-18T20:07:25.867871Z",
     "iopub.status.idle": "2021-10-18T20:07:25.880684Z",
     "shell.execute_reply": "2021-10-18T20:07:25.879941Z",
     "shell.execute_reply.started": "2021-10-18T20:05:19.103647Z"
    },
    "papermill": {
     "duration": 0.067765,
     "end_time": "2021-10-18T20:07:25.880829",
     "exception": false,
     "start_time": "2021-10-18T20:07:25.813064",
     "status": "completed"
    },
    "tags": []
   },
   "outputs": [],
   "source": [
    "X_train, X_test, y_train, y_test = preprocessing_inputs(data)"
   ]
  },
  {
   "cell_type": "code",
   "execution_count": 12,
   "id": "bfe81175",
   "metadata": {
    "execution": {
     "iopub.execute_input": "2021-10-18T20:07:25.953341Z",
     "iopub.status.busy": "2021-10-18T20:07:25.952689Z",
     "iopub.status.idle": "2021-10-18T20:07:25.957076Z",
     "shell.execute_reply": "2021-10-18T20:07:25.956445Z",
     "shell.execute_reply.started": "2021-10-18T20:05:19.127559Z"
    },
    "papermill": {
     "duration": 0.039568,
     "end_time": "2021-10-18T20:07:25.957218",
     "exception": false,
     "start_time": "2021-10-18T20:07:25.917650",
     "status": "completed"
    },
    "tags": []
   },
   "outputs": [
    {
     "name": "stdout",
     "output_type": "stream",
     "text": [
      "Train set: (398, 30) (398,)\n",
      "Test set: (171, 30) (171,)\n"
     ]
    }
   ],
   "source": [
    "print('Train set:', X_train.shape,  y_train.shape)\n",
    "print('Test set:', X_test.shape,  y_test.shape)"
   ]
  },
  {
   "cell_type": "markdown",
   "id": "7ba56b3f",
   "metadata": {
    "papermill": {
     "duration": 0.042615,
     "end_time": "2021-10-18T20:07:26.044225",
     "exception": false,
     "start_time": "2021-10-18T20:07:26.001610",
     "status": "completed"
    },
    "tags": []
   },
   "source": [
    "# Model Training"
   ]
  },
  {
   "cell_type": "markdown",
   "id": "b1892283",
   "metadata": {
    "papermill": {
     "duration": 0.041772,
     "end_time": "2021-10-18T20:07:26.128005",
     "exception": false,
     "start_time": "2021-10-18T20:07:26.086233",
     "status": "completed"
    },
    "tags": []
   },
   "source": [
    "## SVM"
   ]
  },
  {
   "cell_type": "code",
   "execution_count": 13,
   "id": "7791fd32",
   "metadata": {
    "execution": {
     "iopub.execute_input": "2021-10-18T20:07:26.216077Z",
     "iopub.status.busy": "2021-10-18T20:07:26.215200Z",
     "iopub.status.idle": "2021-10-18T20:07:26.219127Z",
     "shell.execute_reply": "2021-10-18T20:07:26.219591Z",
     "shell.execute_reply.started": "2021-10-18T20:05:19.136617Z"
    },
    "papermill": {
     "duration": 0.049918,
     "end_time": "2021-10-18T20:07:26.219771",
     "exception": false,
     "start_time": "2021-10-18T20:07:26.169853",
     "status": "completed"
    },
    "tags": []
   },
   "outputs": [],
   "source": [
    "parameters = {'kernel':('linear', 'rbf','poly','rbf', 'sigmoid'),\n",
    "              'C': np.logspace(-3, 3, 5),\n",
    "              'gamma':np.logspace(-3, 3, 5)}\n",
    "svm = SVC()"
   ]
  },
  {
   "cell_type": "code",
   "execution_count": 14,
   "id": "210e5e8a",
   "metadata": {
    "execution": {
     "iopub.execute_input": "2021-10-18T20:07:26.309011Z",
     "iopub.status.busy": "2021-10-18T20:07:26.308184Z",
     "iopub.status.idle": "2021-10-18T20:07:38.105277Z",
     "shell.execute_reply": "2021-10-18T20:07:38.105667Z",
     "shell.execute_reply.started": "2021-10-18T20:05:19.151199Z"
    },
    "papermill": {
     "duration": 11.842699,
     "end_time": "2021-10-18T20:07:38.105799",
     "exception": false,
     "start_time": "2021-10-18T20:07:26.263100",
     "status": "completed"
    },
    "tags": []
   },
   "outputs": [
    {
     "data": {
      "text/plain": [
       "GridSearchCV(cv=10, estimator=SVC(),\n",
       "             param_grid={'C': array([1.00000000e-03, 3.16227766e-02, 1.00000000e+00, 3.16227766e+01,\n",
       "       1.00000000e+03]),\n",
       "                         'gamma': array([1.00000000e-03, 3.16227766e-02, 1.00000000e+00, 3.16227766e+01,\n",
       "       1.00000000e+03]),\n",
       "                         'kernel': ('linear', 'rbf', 'poly', 'rbf', 'sigmoid')})"
      ]
     },
     "execution_count": 14,
     "metadata": {},
     "output_type": "execute_result"
    }
   ],
   "source": [
    "svm_cv = GridSearchCV(estimator=svm, param_grid=parameters, cv=10)\n",
    "svm_cv.fit(X_train, y_train)"
   ]
  },
  {
   "cell_type": "code",
   "execution_count": 15,
   "id": "b5dae9d4",
   "metadata": {
    "execution": {
     "iopub.execute_input": "2021-10-18T20:07:38.165765Z",
     "iopub.status.busy": "2021-10-18T20:07:38.165295Z",
     "iopub.status.idle": "2021-10-18T20:07:38.167563Z",
     "shell.execute_reply": "2021-10-18T20:07:38.167944Z",
     "shell.execute_reply.started": "2021-10-18T20:05:33.852959Z"
    },
    "papermill": {
     "duration": 0.034372,
     "end_time": "2021-10-18T20:07:38.168088",
     "exception": false,
     "start_time": "2021-10-18T20:07:38.133716",
     "status": "completed"
    },
    "tags": []
   },
   "outputs": [
    {
     "name": "stdout",
     "output_type": "stream",
     "text": [
      "tuned hpyerparameters: {'C': 1.0, 'gamma': 0.001, 'kernel': 'linear'}\n",
      "accuracy: 97.99%\n"
     ]
    }
   ],
   "source": [
    "print('tuned hpyerparameters:' ,svm_cv.best_params_)\n",
    "print('accuracy:','{:.2%}'.format(svm_cv.best_score_))"
   ]
  },
  {
   "cell_type": "markdown",
   "id": "6c386c77",
   "metadata": {
    "papermill": {
     "duration": 0.027306,
     "end_time": "2021-10-18T20:07:38.223078",
     "exception": false,
     "start_time": "2021-10-18T20:07:38.195772",
     "status": "completed"
    },
    "tags": []
   },
   "source": [
    "## Logistic Regression"
   ]
  },
  {
   "cell_type": "code",
   "execution_count": 16,
   "id": "bb2e989b",
   "metadata": {
    "execution": {
     "iopub.execute_input": "2021-10-18T20:07:38.282827Z",
     "iopub.status.busy": "2021-10-18T20:07:38.282378Z",
     "iopub.status.idle": "2021-10-18T20:07:38.285701Z",
     "shell.execute_reply": "2021-10-18T20:07:38.285309Z",
     "shell.execute_reply.started": "2021-10-18T20:05:33.861514Z"
    },
    "papermill": {
     "duration": 0.03529,
     "end_time": "2021-10-18T20:07:38.285800",
     "exception": false,
     "start_time": "2021-10-18T20:07:38.250510",
     "status": "completed"
    },
    "tags": []
   },
   "outputs": [],
   "source": [
    "parameters = {'C': [0.01, 0.1, 1],\n",
    "              'penalty': ['l2', 'l1'],\n",
    "              'solver': ['newton-cg', 'lbfgs', 'liblinear', 'sag', 'saga']}\n",
    "logreg = LogisticRegression()"
   ]
  },
  {
   "cell_type": "code",
   "execution_count": 17,
   "id": "ccbad6ba",
   "metadata": {
    "execution": {
     "iopub.execute_input": "2021-10-18T20:07:38.347621Z",
     "iopub.status.busy": "2021-10-18T20:07:38.347182Z",
     "iopub.status.idle": "2021-10-18T20:07:41.378625Z",
     "shell.execute_reply": "2021-10-18T20:07:41.379062Z",
     "shell.execute_reply.started": "2021-10-18T20:05:33.871720Z"
    },
    "papermill": {
     "duration": 3.065371,
     "end_time": "2021-10-18T20:07:41.379212",
     "exception": false,
     "start_time": "2021-10-18T20:07:38.313841",
     "status": "completed"
    },
    "tags": []
   },
   "outputs": [
    {
     "data": {
      "text/plain": [
       "GridSearchCV(cv=10, estimator=LogisticRegression(),\n",
       "             param_grid={'C': [0.01, 0.1, 1], 'penalty': ['l2', 'l1'],\n",
       "                         'solver': ['newton-cg', 'lbfgs', 'liblinear', 'sag',\n",
       "                                    'saga']})"
      ]
     },
     "execution_count": 17,
     "metadata": {},
     "output_type": "execute_result"
    }
   ],
   "source": [
    "logreg_cv = GridSearchCV(estimator=logreg, param_grid=parameters, cv=10)\n",
    "logreg_cv.fit(X_train, y_train)"
   ]
  },
  {
   "cell_type": "code",
   "execution_count": 18,
   "id": "1e3e9616",
   "metadata": {
    "execution": {
     "iopub.execute_input": "2021-10-18T20:07:41.441236Z",
     "iopub.status.busy": "2021-10-18T20:07:41.440475Z",
     "iopub.status.idle": "2021-10-18T20:07:41.444132Z",
     "shell.execute_reply": "2021-10-18T20:07:41.444631Z",
     "shell.execute_reply.started": "2021-10-18T20:05:37.677032Z"
    },
    "papermill": {
     "duration": 0.036864,
     "end_time": "2021-10-18T20:07:41.444776",
     "exception": false,
     "start_time": "2021-10-18T20:07:41.407912",
     "status": "completed"
    },
    "tags": []
   },
   "outputs": [
    {
     "name": "stdout",
     "output_type": "stream",
     "text": [
      "Tuned paramters: {'C': 0.1, 'penalty': 'l2', 'solver': 'liblinear'}\n",
      "Accuracy: 98.24%\n"
     ]
    }
   ],
   "source": [
    "print('Tuned paramters:', logreg_cv.best_params_)\n",
    "print('Accuracy:', '{:.2%}'.format(logreg_cv.best_score_))"
   ]
  },
  {
   "cell_type": "markdown",
   "id": "8e1642b6",
   "metadata": {
    "papermill": {
     "duration": 0.028885,
     "end_time": "2021-10-18T20:07:41.503572",
     "exception": false,
     "start_time": "2021-10-18T20:07:41.474687",
     "status": "completed"
    },
    "tags": []
   },
   "source": [
    "# Training Results"
   ]
  },
  {
   "cell_type": "code",
   "execution_count": 19,
   "id": "243e5d8b",
   "metadata": {
    "execution": {
     "iopub.execute_input": "2021-10-18T20:07:41.567287Z",
     "iopub.status.busy": "2021-10-18T20:07:41.566776Z",
     "iopub.status.idle": "2021-10-18T20:07:41.569295Z",
     "shell.execute_reply": "2021-10-18T20:07:41.569633Z",
     "shell.execute_reply.started": "2021-10-18T20:05:37.685925Z"
    },
    "papermill": {
     "duration": 0.037199,
     "end_time": "2021-10-18T20:07:41.569768",
     "exception": false,
     "start_time": "2021-10-18T20:07:41.532569",
     "status": "completed"
    },
    "tags": []
   },
   "outputs": [],
   "source": [
    "from sklearn.metrics import confusion_matrix\n",
    "def plot_confusion_matrix(y,y_predict):\n",
    "    #Function to easily plot confusion matrix\n",
    "    cm = confusion_matrix(y, y_predict)\n",
    "    ax= plt.subplot()\n",
    "    sns.heatmap(cm, annot=True, ax = ax, fmt='g');\n",
    "    ax.set_xlabel('Predicted labels')\n",
    "    ax.set_ylabel('True labels')\n",
    "    ax.set_title('Confusion Matrix'); \n",
    "    ax.xaxis.set_ticklabels(['Bengin', 'Malignant']); ax.yaxis.set_ticklabels(['Bengin', 'Malignant'])"
   ]
  },
  {
   "cell_type": "code",
   "execution_count": 20,
   "id": "4c02a517",
   "metadata": {
    "execution": {
     "iopub.execute_input": "2021-10-18T20:07:41.633511Z",
     "iopub.status.busy": "2021-10-18T20:07:41.632612Z",
     "iopub.status.idle": "2021-10-18T20:07:41.637985Z",
     "shell.execute_reply": "2021-10-18T20:07:41.637303Z",
     "shell.execute_reply.started": "2021-10-18T20:05:37.696921Z"
    },
    "papermill": {
     "duration": 0.039719,
     "end_time": "2021-10-18T20:07:41.638122",
     "exception": false,
     "start_time": "2021-10-18T20:07:41.598403",
     "status": "completed"
    },
    "tags": []
   },
   "outputs": [
    {
     "name": "stdout",
     "output_type": "stream",
     "text": [
      "Support Vector Machine Accuracy: 94.74%\n"
     ]
    }
   ],
   "source": [
    "yhat_svm = svm_cv.predict(X_test)\n",
    "svm_acc = accuracy_score(y_test, yhat_svm)\n",
    "print('Support Vector Machine Accuracy:', '{:.2%}'.format(svm_acc))"
   ]
  },
  {
   "cell_type": "code",
   "execution_count": 21,
   "id": "f43a752f",
   "metadata": {
    "execution": {
     "iopub.execute_input": "2021-10-18T20:07:41.745373Z",
     "iopub.status.busy": "2021-10-18T20:07:41.744731Z",
     "iopub.status.idle": "2021-10-18T20:07:41.921166Z",
     "shell.execute_reply": "2021-10-18T20:07:41.921641Z",
     "shell.execute_reply.started": "2021-10-18T20:05:37.712966Z"
    },
    "papermill": {
     "duration": 0.238583,
     "end_time": "2021-10-18T20:07:41.921811",
     "exception": false,
     "start_time": "2021-10-18T20:07:41.683228",
     "status": "completed"
    },
    "tags": []
   },
   "outputs": [
    {
     "data": {
      "image/png": "[encoded data removed]",
      "text/plain": [
       "<Figure size 432x288 with 2 Axes>"
      ]
     },
     "metadata": {
      "needs_background": "light"
     },
     "output_type": "display_data"
    }
   ],
   "source": [
    "plot_confusion_matrix(y_test, yhat_svm)"
   ]
  },
  {
   "cell_type": "code",
   "execution_count": 22,
   "id": "43e8dc84",
   "metadata": {
    "execution": {
     "iopub.execute_input": "2021-10-18T20:07:42.020905Z",
     "iopub.status.busy": "2021-10-18T20:07:42.020167Z",
     "iopub.status.idle": "2021-10-18T20:07:42.023850Z",
     "shell.execute_reply": "2021-10-18T20:07:42.024214Z",
     "shell.execute_reply.started": "2021-10-18T20:05:37.985520Z"
    },
    "papermill": {
     "duration": 0.056734,
     "end_time": "2021-10-18T20:07:42.024344",
     "exception": false,
     "start_time": "2021-10-18T20:07:41.967610",
     "status": "completed"
    },
    "tags": []
   },
   "outputs": [
    {
     "name": "stdout",
     "output_type": "stream",
     "text": [
      "Logistic Regression Accuracy: 96.49%\n"
     ]
    }
   ],
   "source": [
    "yhat_log = logreg_cv.predict(X_test)\n",
    "logreg_acc = accuracy_score(y_test, yhat_log)\n",
    "print('Logistic Regression Accuracy:', '{:.2%}'.format(logreg_acc))"
   ]
  },
  {
   "cell_type": "code",
   "execution_count": 23,
   "id": "5fec503c",
   "metadata": {
    "execution": {
     "iopub.execute_input": "2021-10-18T20:07:42.103009Z",
     "iopub.status.busy": "2021-10-18T20:07:42.089213Z",
     "iopub.status.idle": "2021-10-18T20:07:42.238556Z",
     "shell.execute_reply": "2021-10-18T20:07:42.239083Z",
     "shell.execute_reply.started": "2021-10-18T20:05:37.996608Z"
    },
    "papermill": {
     "duration": 0.184504,
     "end_time": "2021-10-18T20:07:42.239239",
     "exception": false,
     "start_time": "2021-10-18T20:07:42.054735",
     "status": "completed"
    },
    "tags": []
   },
   "outputs": [
    {
     "data": {
      "image/png": "[encoded data removed]",
      "text/plain": [
       "<Figure size 432x288 with 2 Axes>"
      ]
     },
     "metadata": {
      "needs_background": "light"
     },
     "output_type": "display_data"
    }
   ],
   "source": [
    "plot_confusion_matrix(y_test, yhat_log)"
   ]
  },
  {
   "cell_type": "markdown",
   "id": "7e2dd921",
   "metadata": {
    "papermill": {
     "duration": 0.031146,
     "end_time": "2021-10-18T20:07:42.303530",
     "exception": false,
     "start_time": "2021-10-18T20:07:42.272384",
     "status": "completed"
    },
    "tags": []
   },
   "source": [
    "# Principle Component Analysis (PCA)"
   ]
  },
  {
   "cell_type": "code",
   "execution_count": 24,
   "id": "0ae12b45",
   "metadata": {
    "execution": {
     "iopub.execute_input": "2021-10-18T20:07:42.368421Z",
     "iopub.status.busy": "2021-10-18T20:07:42.367937Z",
     "iopub.status.idle": "2021-10-18T20:07:42.450019Z",
     "shell.execute_reply": "2021-10-18T20:07:42.449591Z",
     "shell.execute_reply.started": "2021-10-18T20:05:38.260835Z"
    },
    "papermill": {
     "duration": 0.115385,
     "end_time": "2021-10-18T20:07:42.450138",
     "exception": false,
     "start_time": "2021-10-18T20:07:42.334753",
     "status": "completed"
    },
    "tags": []
   },
   "outputs": [],
   "source": [
    "n_components = 3\n",
    "pca = PCA(n_components=n_components)\n",
    "pca.fit(X_train)\n",
    "\n",
    "pca_train = pd.DataFrame(pca.transform(X_train), columns=['PC' + str(i + 1) for i in range(n_components)])\n",
    "pca_test = pd.DataFrame(pca.transform(X_test), columns=['PC' + str(i + 1) for i in range(n_components)])"
   ]
  },
  {
   "cell_type": "code",
   "execution_count": 25,
   "id": "f331cfd0",
   "metadata": {
    "execution": {
     "iopub.execute_input": "2021-10-18T20:07:42.526484Z",
     "iopub.status.busy": "2021-10-18T20:07:42.525753Z",
     "iopub.status.idle": "2021-10-18T20:07:42.531192Z",
     "shell.execute_reply": "2021-10-18T20:07:42.531696Z",
     "shell.execute_reply.started": "2021-10-18T20:05:38.287845Z"
    },
    "papermill": {
     "duration": 0.049871,
     "end_time": "2021-10-18T20:07:42.531888",
     "exception": false,
     "start_time": "2021-10-18T20:07:42.482017",
     "status": "completed"
    },
    "tags": []
   },
   "outputs": [
    {
     "data": {
      "text/html": [
       "<div>\n",
       "<style scoped>\n",
       "    .dataframe tbody tr th:only-of-type {\n",
       "        vertical-align: middle;\n",
       "    }\n",
       "\n",
       "    .dataframe tbody tr th {\n",
       "        vertical-align: top;\n",
       "    }\n",
       "\n",
       "    .dataframe thead th {\n",
       "        text-align: right;\n",
       "    }\n",
       "</style>\n",
       "<table border=\"1\" class=\"dataframe\">\n",
       "  <thead>\n",
       "    <tr style=\"text-align: right;\">\n",
       "      <th></th>\n",
       "      <th>PC1</th>\n",
       "      <th>PC2</th>\n",
       "      <th>PC3</th>\n",
       "    </tr>\n",
       "  </thead>\n",
       "  <tbody>\n",
       "    <tr>\n",
       "      <th>0</th>\n",
       "      <td>-2.495710</td>\n",
       "      <td>0.302182</td>\n",
       "      <td>-0.597139</td>\n",
       "    </tr>\n",
       "    <tr>\n",
       "      <th>1</th>\n",
       "      <td>-3.709049</td>\n",
       "      <td>-1.925309</td>\n",
       "      <td>1.383688</td>\n",
       "    </tr>\n",
       "    <tr>\n",
       "      <th>2</th>\n",
       "      <td>-0.528243</td>\n",
       "      <td>-1.003894</td>\n",
       "      <td>-0.299972</td>\n",
       "    </tr>\n",
       "    <tr>\n",
       "      <th>3</th>\n",
       "      <td>-2.488526</td>\n",
       "      <td>0.492822</td>\n",
       "      <td>-1.046557</td>\n",
       "    </tr>\n",
       "    <tr>\n",
       "      <th>4</th>\n",
       "      <td>-1.688046</td>\n",
       "      <td>0.735948</td>\n",
       "      <td>-0.979607</td>\n",
       "    </tr>\n",
       "    <tr>\n",
       "      <th>...</th>\n",
       "      <td>...</td>\n",
       "      <td>...</td>\n",
       "      <td>...</td>\n",
       "    </tr>\n",
       "    <tr>\n",
       "      <th>393</th>\n",
       "      <td>4.572089</td>\n",
       "      <td>-1.249486</td>\n",
       "      <td>-1.217877</td>\n",
       "    </tr>\n",
       "    <tr>\n",
       "      <th>394</th>\n",
       "      <td>-4.295631</td>\n",
       "      <td>-1.111132</td>\n",
       "      <td>0.743803</td>\n",
       "    </tr>\n",
       "    <tr>\n",
       "      <th>395</th>\n",
       "      <td>5.387308</td>\n",
       "      <td>1.168688</td>\n",
       "      <td>-2.517797</td>\n",
       "    </tr>\n",
       "    <tr>\n",
       "      <th>396</th>\n",
       "      <td>-2.313823</td>\n",
       "      <td>-1.455803</td>\n",
       "      <td>0.186674</td>\n",
       "    </tr>\n",
       "    <tr>\n",
       "      <th>397</th>\n",
       "      <td>-3.740203</td>\n",
       "      <td>-1.519712</td>\n",
       "      <td>1.886679</td>\n",
       "    </tr>\n",
       "  </tbody>\n",
       "</table>\n",
       "<p>398 rows × 3 columns</p>\n",
       "</div>"
      ],
      "text/plain": [
       "          PC1       PC2       PC3\n",
       "0   -2.495710  0.302182 -0.597139\n",
       "1   -3.709049 -1.925309  1.383688\n",
       "2   -0.528243 -1.003894 -0.299972\n",
       "3   -2.488526  0.492822 -1.046557\n",
       "4   -1.688046  0.735948 -0.979607\n",
       "..        ...       ...       ...\n",
       "393  4.572089 -1.249486 -1.217877\n",
       "394 -4.295631 -1.111132  0.743803\n",
       "395  5.387308  1.168688 -2.517797\n",
       "396 -2.313823 -1.455803  0.186674\n",
       "397 -3.740203 -1.519712  1.886679\n",
       "\n",
       "[398 rows x 3 columns]"
      ]
     },
     "execution_count": 25,
     "metadata": {},
     "output_type": "execute_result"
    }
   ],
   "source": [
    "pca_train"
   ]
  },
  {
   "cell_type": "code",
   "execution_count": 26,
   "id": "4326e74d",
   "metadata": {
    "execution": {
     "iopub.execute_input": "2021-10-18T20:07:42.651815Z",
     "iopub.status.busy": "2021-10-18T20:07:42.639276Z",
     "iopub.status.idle": "2021-10-18T20:07:42.773041Z",
     "shell.execute_reply": "2021-10-18T20:07:42.772338Z",
     "shell.execute_reply.started": "2021-10-18T20:05:38.303655Z"
    },
    "papermill": {
     "duration": 0.194919,
     "end_time": "2021-10-18T20:07:42.773161",
     "exception": false,
     "start_time": "2021-10-18T20:07:42.578242",
     "status": "completed"
    },
    "tags": []
   },
   "outputs": [
    {
     "data": {
      "text/plain": [
       "Text(0.5, 1.0, 'Principle Component Variance')"
      ]
     },
     "execution_count": 26,
     "metadata": {},
     "output_type": "execute_result"
    },
    {
     "data": {
      "image/png": "[encoded data removed]",
      "text/plain": [
       "<Figure size 1152x720 with 1 Axes>"
      ]
     },
     "metadata": {
      "needs_background": "light"
     },
     "output_type": "display_data"
    }
   ],
   "source": [
    "plt.figure(figsize=(16,10))\n",
    "sns.barplot(x=pca.explained_variance_ratio_, y=['PC' + str(i + 1) for i in range(n_components)], orient='h', palette='tab10')\n",
    "plt.xlim(0,1)\n",
    "plt.xlabel('Proportion of Variance in Original Data', size=12)\n",
    "plt.title('Principle Component Variance', size=16)"
   ]
  },
  {
   "cell_type": "code",
   "execution_count": 27,
   "id": "39c1ad71",
   "metadata": {
    "execution": {
     "iopub.execute_input": "2021-10-18T20:07:42.841549Z",
     "iopub.status.busy": "2021-10-18T20:07:42.841035Z",
     "iopub.status.idle": "2021-10-18T20:07:42.844929Z",
     "shell.execute_reply": "2021-10-18T20:07:42.844477Z",
     "shell.execute_reply.started": "2021-10-18T20:05:38.487115Z"
    },
    "papermill": {
     "duration": 0.039828,
     "end_time": "2021-10-18T20:07:42.845074",
     "exception": false,
     "start_time": "2021-10-18T20:07:42.805246",
     "status": "completed"
    },
    "tags": []
   },
   "outputs": [],
   "source": [
    "svm_cv = SVC(C=1.0, gamma=0.001, kernel='linear')\n",
    "logreg_cv = LogisticRegression(C=0.1, penalty='l2', solver='liblinear')"
   ]
  },
  {
   "cell_type": "code",
   "execution_count": 28,
   "id": "0ac02730",
   "metadata": {
    "execution": {
     "iopub.execute_input": "2021-10-18T20:07:42.915440Z",
     "iopub.status.busy": "2021-10-18T20:07:42.914895Z",
     "iopub.status.idle": "2021-10-18T20:07:42.922222Z",
     "shell.execute_reply": "2021-10-18T20:07:42.922610Z",
     "shell.execute_reply.started": "2021-10-18T20:05:38.493404Z"
    },
    "papermill": {
     "duration": 0.045909,
     "end_time": "2021-10-18T20:07:42.922776",
     "exception": false,
     "start_time": "2021-10-18T20:07:42.876867",
     "status": "completed"
    },
    "tags": []
   },
   "outputs": [],
   "source": [
    "pca_svm = svm_cv.fit(pca_train, y_train)\n",
    "pca_log = logreg_cv.fit(pca_train, y_train)"
   ]
  },
  {
   "cell_type": "code",
   "execution_count": 29,
   "id": "7b16a8f5",
   "metadata": {
    "execution": {
     "iopub.execute_input": "2021-10-18T20:07:42.991098Z",
     "iopub.status.busy": "2021-10-18T20:07:42.990571Z",
     "iopub.status.idle": "2021-10-18T20:07:43.001216Z",
     "shell.execute_reply": "2021-10-18T20:07:43.000737Z",
     "shell.execute_reply.started": "2021-10-18T20:05:38.512903Z"
    },
    "papermill": {
     "duration": 0.045962,
     "end_time": "2021-10-18T20:07:43.001331",
     "exception": false,
     "start_time": "2021-10-18T20:07:42.955369",
     "status": "completed"
    },
    "tags": []
   },
   "outputs": [],
   "source": [
    "pca_svm_acc = pca_svm.score(pca_test, y_test)\n",
    "pca_log_acc = pca_log.score(pca_test, y_test)"
   ]
  },
  {
   "cell_type": "code",
   "execution_count": 30,
   "id": "af79ec2c",
   "metadata": {
    "execution": {
     "iopub.execute_input": "2021-10-18T20:07:43.069587Z",
     "iopub.status.busy": "2021-10-18T20:07:43.069065Z",
     "iopub.status.idle": "2021-10-18T20:07:43.075880Z",
     "shell.execute_reply": "2021-10-18T20:07:43.075270Z",
     "shell.execute_reply.started": "2021-10-18T20:05:38.528235Z"
    },
    "papermill": {
     "duration": 0.042376,
     "end_time": "2021-10-18T20:07:43.076032",
     "exception": false,
     "start_time": "2021-10-18T20:07:43.033656",
     "status": "completed"
    },
    "tags": []
   },
   "outputs": [
    {
     "name": "stdout",
     "output_type": "stream",
     "text": [
      "PCA Support Vector Machine Accuracy: 92.98%\n",
      "PCA Logistic Regression Accuracy: 92.98%\n"
     ]
    }
   ],
   "source": [
    "print('PCA Support Vector Machine Accuracy:', '{:.2%}'.format(pca_svm_acc))\n",
    "print('PCA Logistic Regression Accuracy:', '{:.2%}'.format(pca_log_acc))"
   ]
  },
  {
   "cell_type": "markdown",
   "id": "f67d7198",
   "metadata": {
    "papermill": {
     "duration": 0.049031,
     "end_time": "2021-10-18T20:07:43.174502",
     "exception": false,
     "start_time": "2021-10-18T20:07:43.125471",
     "status": "completed"
    },
    "tags": []
   },
   "source": [
    "# Compare Models"
   ]
  },
  {
   "cell_type": "code",
   "execution_count": 31,
   "id": "65077d9f",
   "metadata": {
    "execution": {
     "iopub.execute_input": "2021-10-18T20:07:43.278310Z",
     "iopub.status.busy": "2021-10-18T20:07:43.277665Z",
     "iopub.status.idle": "2021-10-18T20:07:43.280081Z",
     "shell.execute_reply": "2021-10-18T20:07:43.279637Z",
     "shell.execute_reply.started": "2021-10-18T20:05:38.536534Z"
    },
    "papermill": {
     "duration": 0.055029,
     "end_time": "2021-10-18T20:07:43.280200",
     "exception": false,
     "start_time": "2021-10-18T20:07:43.225171",
     "status": "completed"
    },
    "tags": []
   },
   "outputs": [],
   "source": [
    "model_dict = {\n",
    "            'models':['SVM', 'PCA SVM', 'Logistic Reg', 'PCA Logistic Reg'],\n",
    "            'scores':[svm_acc, pca_svm_acc, logreg_acc, pca_log_acc]\n",
    "}"
   ]
  },
  {
   "cell_type": "code",
   "execution_count": 32,
   "id": "92c5126f",
   "metadata": {
    "execution": {
     "iopub.execute_input": "2021-10-18T20:07:43.349227Z",
     "iopub.status.busy": "2021-10-18T20:07:43.348667Z",
     "iopub.status.idle": "2021-10-18T20:07:43.350883Z",
     "shell.execute_reply": "2021-10-18T20:07:43.350426Z",
     "shell.execute_reply.started": "2021-10-18T20:05:38.548624Z"
    },
    "papermill": {
     "duration": 0.038478,
     "end_time": "2021-10-18T20:07:43.351014",
     "exception": false,
     "start_time": "2021-10-18T20:07:43.312536",
     "status": "completed"
    },
    "tags": []
   },
   "outputs": [],
   "source": [
    "model_df = pd.DataFrame.from_dict(model_dict)"
   ]
  },
  {
   "cell_type": "code",
   "execution_count": 33,
   "id": "86529899",
   "metadata": {
    "execution": {
     "iopub.execute_input": "2021-10-18T20:07:43.420780Z",
     "iopub.status.busy": "2021-10-18T20:07:43.420273Z",
     "iopub.status.idle": "2021-10-18T20:07:43.674060Z",
     "shell.execute_reply": "2021-10-18T20:07:43.672775Z",
     "shell.execute_reply.started": "2021-10-18T20:05:38.562022Z"
    },
    "papermill": {
     "duration": 0.290615,
     "end_time": "2021-10-18T20:07:43.674199",
     "exception": false,
     "start_time": "2021-10-18T20:07:43.383584",
     "status": "completed"
    },
    "tags": []
   },
   "outputs": [
    {
     "data": {
      "text/plain": [
       "Text(0.5, 1.0, 'Model Performance')"
      ]
     },
     "execution_count": 33,
     "metadata": {},
     "output_type": "execute_result"
    },
    {
     "data": {
      "image/png": "[encoded data removed]",
      "text/plain": [
       "<Figure size 576x432 with 1 Axes>"
      ]
     },
     "metadata": {
      "needs_background": "light"
     },
     "output_type": "display_data"
    }
   ],
   "source": [
    "model_df.plot(kind='bar', x='models', y='scores', figsize=(8,6))\n",
    "plt.xlabel('Models', size=12)\n",
    "plt.xticks(rotation=30)\n",
    "plt.ylabel('Accuracy Scores', size=12)\n",
    "plt.title('Model Performance', size=16)"
   ]
  }
 ],
 "metadata": {
  "kernelspec": {
   "display_name": "Python 3",
   "language": "python",
   "name": "python3"
  },
  "language_info": {
   "codemirror_mode": {
    "name": "ipython",
    "version": 3
   },
   "file_extension": ".py",
   "mimetype": "text/x-python",
   "name": "python",
   "nbconvert_exporter": "python",
   "pygments_lexer": "ipython3",
   "version": "3.7.10"
  },
  "papermill": {
   "default_parameters": {},
   "duration": 28.802741,
   "end_time": "2021-10-18T20:07:45.274408",
   "environment_variables": {},
   "exception": null,
   "input_path": "__notebook__.ipynb",
   "output_path": "__notebook__.ipynb",
   "parameters": {},
   "start_time": "2021-10-18T20:07:16.471667",
   "version": "2.3.3"
  }
 },
 "nbformat": 4,
 "nbformat_minor": 5
}
